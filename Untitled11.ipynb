{
 "cells": [
  {
   "cell_type": "code",
   "execution_count": 26,
   "id": "0168e334",
   "metadata": {},
   "outputs": [],
   "source": [
    "from selenium import webdriver\n",
    "from selenium.webdriver.common.by import By\n",
    "from time import sleep"
   ]
  },
  {
   "cell_type": "code",
   "execution_count": 27,
   "id": "26a09909",
   "metadata": {},
   "outputs": [],
   "source": [
    "from selenium import webdriver\n",
    "from selenium.webdriver.support.ui import WebDriverWait\n",
    "\n",
    "# Github credentials\n",
    "username = \"afshan_m_r\"\n",
    "password = \"jfGtFt3gUq44XFf\"\n",
    "\n",
    "# initialize the Chrome driver\n",
    "driver = webdriver.Chrome()"
   ]
  },
  {
   "cell_type": "code",
   "execution_count": null,
   "id": "cd6390dd",
   "metadata": {},
   "outputs": [],
   "source": [
    "#outer html of username, password,\n",
    "#<input aria-invalid=\"false\" id=\"id_username\" name=\"username\" type=\"text\" class=\"MuiInputBase-input MuiOutlinedInput-input\" value=\"\">\n",
    "#<input aria-invalid=\"false\" id=\"id_password\" name=\"password\" type=\"password\" class=\"MuiInputBase-input MuiOutlinedInput-input\" value=\"\">\n",
    "#<input type=\"submit\" id=\"\" class=\"button1 LoginPage__button1___\" value=\"Login\" style=\"margin-top: 10px;\">"
   ]
  },
  {
   "cell_type": "code",
   "execution_count": 28,
   "id": "33f10808",
   "metadata": {},
   "outputs": [
    {
     "ename": "NoSuchElementException",
     "evalue": "Message: no such element: Unable to locate element: {\"method\":\"css selector\",\"selector\":\"[id=\"id_username\"]\"}\n  (Session info: chrome=119.0.6045.106); For documentation on this error, please visit: https://www.selenium.dev/documentation/webdriver/troubleshooting/errors#no-such-element-exception\nStacktrace:\n\tGetHandleVerifier [0x00007FF6C1C282B2+55298]\n\t(No symbol) [0x00007FF6C1B95E02]\n\t(No symbol) [0x00007FF6C1A505AB]\n\t(No symbol) [0x00007FF6C1A9175C]\n\t(No symbol) [0x00007FF6C1A918DC]\n\t(No symbol) [0x00007FF6C1ACCBC7]\n\t(No symbol) [0x00007FF6C1AB20EF]\n\t(No symbol) [0x00007FF6C1ACAAA4]\n\t(No symbol) [0x00007FF6C1AB1E83]\n\t(No symbol) [0x00007FF6C1A8670A]\n\t(No symbol) [0x00007FF6C1A87964]\n\tGetHandleVerifier [0x00007FF6C1FA0AAB+3694587]\n\tGetHandleVerifier [0x00007FF6C1FF728E+4048862]\n\tGetHandleVerifier [0x00007FF6C1FEF173+4015811]\n\tGetHandleVerifier [0x00007FF6C1CC47D6+695590]\n\t(No symbol) [0x00007FF6C1BA0CE8]\n\t(No symbol) [0x00007FF6C1B9CF34]\n\t(No symbol) [0x00007FF6C1B9D062]\n\t(No symbol) [0x00007FF6C1B8D3A3]\n\tBaseThreadInitThunk [0x00007FFD580B257D+29]\n\tRtlUserThreadStart [0x00007FFD583EAA78+40]\n",
     "output_type": "error",
     "traceback": [
      "\u001b[1;31m---------------------------------------------------------------------------\u001b[0m",
      "\u001b[1;31mNoSuchElementException\u001b[0m                    Traceback (most recent call last)",
      "Input \u001b[1;32mIn [28]\u001b[0m, in \u001b[0;36m<cell line: 3>\u001b[1;34m()\u001b[0m\n\u001b[0;32m      1\u001b[0m driver\u001b[38;5;241m.\u001b[39mget(\u001b[38;5;124m'\u001b[39m\u001b[38;5;124mhttps://www.ymgrad.com/search-program/?q=Business\u001b[39m\u001b[38;5;124m%\u001b[39m\u001b[38;5;124m20Analytics\u001b[39m\u001b[38;5;124m'\u001b[39m)\n\u001b[0;32m      2\u001b[0m \u001b[38;5;66;03m# find username/email field and send the username itself to the input field\u001b[39;00m\n\u001b[1;32m----> 3\u001b[0m \u001b[43mdriver\u001b[49m\u001b[38;5;241;43m.\u001b[39;49m\u001b[43mfind_element\u001b[49m\u001b[43m(\u001b[49m\u001b[38;5;124;43m\"\u001b[39;49m\u001b[38;5;124;43mid\u001b[39;49m\u001b[38;5;124;43m\"\u001b[39;49m\u001b[43m,\u001b[49m\u001b[43m \u001b[49m\u001b[38;5;124;43m\"\u001b[39;49m\u001b[38;5;124;43mid_username\u001b[39;49m\u001b[38;5;124;43m\"\u001b[39;49m\u001b[43m)\u001b[49m\u001b[38;5;241m.\u001b[39msend_keys(username)\n\u001b[0;32m      4\u001b[0m \u001b[38;5;66;03m# find password input field and insert password as well\u001b[39;00m\n\u001b[0;32m      5\u001b[0m driver\u001b[38;5;241m.\u001b[39mfind_element(\u001b[38;5;124m\"\u001b[39m\u001b[38;5;124mid\u001b[39m\u001b[38;5;124m\"\u001b[39m, \u001b[38;5;124m\"\u001b[39m\u001b[38;5;124mid_password\u001b[39m\u001b[38;5;124m\"\u001b[39m)\u001b[38;5;241m.\u001b[39msend_keys(password)\n",
      "File \u001b[1;32m~\\anaconda3\\lib\\site-packages\\selenium\\webdriver\\remote\\webdriver.py:738\u001b[0m, in \u001b[0;36mWebDriver.find_element\u001b[1;34m(self, by, value)\u001b[0m\n\u001b[0;32m    735\u001b[0m     by \u001b[38;5;241m=\u001b[39m By\u001b[38;5;241m.\u001b[39mCSS_SELECTOR\n\u001b[0;32m    736\u001b[0m     value \u001b[38;5;241m=\u001b[39m \u001b[38;5;124mf\u001b[39m\u001b[38;5;124m'\u001b[39m\u001b[38;5;124m[name=\u001b[39m\u001b[38;5;124m\"\u001b[39m\u001b[38;5;132;01m{\u001b[39;00mvalue\u001b[38;5;132;01m}\u001b[39;00m\u001b[38;5;124m\"\u001b[39m\u001b[38;5;124m]\u001b[39m\u001b[38;5;124m'\u001b[39m\n\u001b[1;32m--> 738\u001b[0m \u001b[38;5;28;01mreturn\u001b[39;00m \u001b[38;5;28;43mself\u001b[39;49m\u001b[38;5;241;43m.\u001b[39;49m\u001b[43mexecute\u001b[49m\u001b[43m(\u001b[49m\u001b[43mCommand\u001b[49m\u001b[38;5;241;43m.\u001b[39;49m\u001b[43mFIND_ELEMENT\u001b[49m\u001b[43m,\u001b[49m\u001b[43m \u001b[49m\u001b[43m{\u001b[49m\u001b[38;5;124;43m\"\u001b[39;49m\u001b[38;5;124;43musing\u001b[39;49m\u001b[38;5;124;43m\"\u001b[39;49m\u001b[43m:\u001b[49m\u001b[43m \u001b[49m\u001b[43mby\u001b[49m\u001b[43m,\u001b[49m\u001b[43m \u001b[49m\u001b[38;5;124;43m\"\u001b[39;49m\u001b[38;5;124;43mvalue\u001b[39;49m\u001b[38;5;124;43m\"\u001b[39;49m\u001b[43m:\u001b[49m\u001b[43m \u001b[49m\u001b[43mvalue\u001b[49m\u001b[43m}\u001b[49m\u001b[43m)\u001b[49m[\u001b[38;5;124m\"\u001b[39m\u001b[38;5;124mvalue\u001b[39m\u001b[38;5;124m\"\u001b[39m]\n",
      "File \u001b[1;32m~\\anaconda3\\lib\\site-packages\\selenium\\webdriver\\remote\\webdriver.py:344\u001b[0m, in \u001b[0;36mWebDriver.execute\u001b[1;34m(self, driver_command, params)\u001b[0m\n\u001b[0;32m    342\u001b[0m response \u001b[38;5;241m=\u001b[39m \u001b[38;5;28mself\u001b[39m\u001b[38;5;241m.\u001b[39mcommand_executor\u001b[38;5;241m.\u001b[39mexecute(driver_command, params)\n\u001b[0;32m    343\u001b[0m \u001b[38;5;28;01mif\u001b[39;00m response:\n\u001b[1;32m--> 344\u001b[0m     \u001b[38;5;28;43mself\u001b[39;49m\u001b[38;5;241;43m.\u001b[39;49m\u001b[43merror_handler\u001b[49m\u001b[38;5;241;43m.\u001b[39;49m\u001b[43mcheck_response\u001b[49m\u001b[43m(\u001b[49m\u001b[43mresponse\u001b[49m\u001b[43m)\u001b[49m\n\u001b[0;32m    345\u001b[0m     response[\u001b[38;5;124m\"\u001b[39m\u001b[38;5;124mvalue\u001b[39m\u001b[38;5;124m\"\u001b[39m] \u001b[38;5;241m=\u001b[39m \u001b[38;5;28mself\u001b[39m\u001b[38;5;241m.\u001b[39m_unwrap_value(response\u001b[38;5;241m.\u001b[39mget(\u001b[38;5;124m\"\u001b[39m\u001b[38;5;124mvalue\u001b[39m\u001b[38;5;124m\"\u001b[39m, \u001b[38;5;28;01mNone\u001b[39;00m))\n\u001b[0;32m    346\u001b[0m     \u001b[38;5;28;01mreturn\u001b[39;00m response\n",
      "File \u001b[1;32m~\\anaconda3\\lib\\site-packages\\selenium\\webdriver\\remote\\errorhandler.py:229\u001b[0m, in \u001b[0;36mErrorHandler.check_response\u001b[1;34m(self, response)\u001b[0m\n\u001b[0;32m    227\u001b[0m         alert_text \u001b[38;5;241m=\u001b[39m value[\u001b[38;5;124m\"\u001b[39m\u001b[38;5;124malert\u001b[39m\u001b[38;5;124m\"\u001b[39m]\u001b[38;5;241m.\u001b[39mget(\u001b[38;5;124m\"\u001b[39m\u001b[38;5;124mtext\u001b[39m\u001b[38;5;124m\"\u001b[39m)\n\u001b[0;32m    228\u001b[0m     \u001b[38;5;28;01mraise\u001b[39;00m exception_class(message, screen, stacktrace, alert_text)  \u001b[38;5;66;03m# type: ignore[call-arg]  # mypy is not smart enough here\u001b[39;00m\n\u001b[1;32m--> 229\u001b[0m \u001b[38;5;28;01mraise\u001b[39;00m exception_class(message, screen, stacktrace)\n",
      "\u001b[1;31mNoSuchElementException\u001b[0m: Message: no such element: Unable to locate element: {\"method\":\"css selector\",\"selector\":\"[id=\"id_username\"]\"}\n  (Session info: chrome=119.0.6045.106); For documentation on this error, please visit: https://www.selenium.dev/documentation/webdriver/troubleshooting/errors#no-such-element-exception\nStacktrace:\n\tGetHandleVerifier [0x00007FF6C1C282B2+55298]\n\t(No symbol) [0x00007FF6C1B95E02]\n\t(No symbol) [0x00007FF6C1A505AB]\n\t(No symbol) [0x00007FF6C1A9175C]\n\t(No symbol) [0x00007FF6C1A918DC]\n\t(No symbol) [0x00007FF6C1ACCBC7]\n\t(No symbol) [0x00007FF6C1AB20EF]\n\t(No symbol) [0x00007FF6C1ACAAA4]\n\t(No symbol) [0x00007FF6C1AB1E83]\n\t(No symbol) [0x00007FF6C1A8670A]\n\t(No symbol) [0x00007FF6C1A87964]\n\tGetHandleVerifier [0x00007FF6C1FA0AAB+3694587]\n\tGetHandleVerifier [0x00007FF6C1FF728E+4048862]\n\tGetHandleVerifier [0x00007FF6C1FEF173+4015811]\n\tGetHandleVerifier [0x00007FF6C1CC47D6+695590]\n\t(No symbol) [0x00007FF6C1BA0CE8]\n\t(No symbol) [0x00007FF6C1B9CF34]\n\t(No symbol) [0x00007FF6C1B9D062]\n\t(No symbol) [0x00007FF6C1B8D3A3]\n\tBaseThreadInitThunk [0x00007FFD580B257D+29]\n\tRtlUserThreadStart [0x00007FFD583EAA78+40]\n"
     ]
    }
   ],
   "source": [
    "driver.get('https://www.ymgrad.com/search-program/?q=Business%20Analytics')\n",
    "# find username/email field and send the username itself to the input field\n",
    "driver.find_element(\"id\", \"id_username\").send_keys(username)\n",
    "# find password input field and insert password as well\n",
    "driver.find_element(\"id\", \"id_password\").send_keys(password)\n",
    "# click login button\n",
    "driver.find_element(\"class\", \"button1\").click()"
   ]
  },
  {
   "cell_type": "code",
   "execution_count": null,
   "id": "80a6b222",
   "metadata": {},
   "outputs": [],
   "source": []
  }
 ],
 "metadata": {
  "kernelspec": {
   "display_name": "Python 3 (ipykernel)",
   "language": "python",
   "name": "python3"
  },
  "language_info": {
   "codemirror_mode": {
    "name": "ipython",
    "version": 3
   },
   "file_extension": ".py",
   "mimetype": "text/x-python",
   "name": "python",
   "nbconvert_exporter": "python",
   "pygments_lexer": "ipython3",
   "version": "3.9.12"
  }
 },
 "nbformat": 4,
 "nbformat_minor": 5
}
